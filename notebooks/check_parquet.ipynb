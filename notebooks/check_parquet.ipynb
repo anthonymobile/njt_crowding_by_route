{
 "cells": [
  {
   "cell_type": "code",
   "execution_count": 1,
   "id": "24ce720d-55be-4a4c-894c-8707768fe3fb",
   "metadata": {},
   "outputs": [],
   "source": [
    "file = \"njt-crowding-route-119.parquet\""
   ]
  },
  {
   "cell_type": "code",
   "execution_count": 2,
   "id": "2b852ca0-43d9-48a7-aa15-671f9c46b276",
   "metadata": {},
   "outputs": [],
   "source": [
    "import pandas as pd\n",
    "\n",
    "df = pd.read_parquet(file)"
   ]
  },
  {
   "cell_type": "code",
   "execution_count": 3,
   "id": "7ded43f2-f121-4ab7-a1bc-f4c4d4d90d6b",
   "metadata": {},
   "outputs": [
    {
     "data": {
      "text/html": [
       "<div>\n",
       "<style scoped>\n",
       "    .dataframe tbody tr th:only-of-type {\n",
       "        vertical-align: middle;\n",
       "    }\n",
       "\n",
       "    .dataframe tbody tr th {\n",
       "        vertical-align: top;\n",
       "    }\n",
       "\n",
       "    .dataframe thead th {\n",
       "        text-align: right;\n",
       "    }\n",
       "</style>\n",
       "<table border=\"1\" class=\"dataframe\">\n",
       "  <thead>\n",
       "    <tr style=\"text-align: right;\">\n",
       "      <th></th>\n",
       "      <th>timestamp</th>\n",
       "      <th>route</th>\n",
       "      <th>stop_id</th>\n",
       "      <th>destination</th>\n",
       "      <th>headsign</th>\n",
       "      <th>bus_id</th>\n",
       "      <th>eta_min</th>\n",
       "      <th>eta_time</th>\n",
       "      <th>crowding</th>\n",
       "    </tr>\n",
       "    <tr>\n",
       "      <th>index</th>\n",
       "      <th></th>\n",
       "      <th></th>\n",
       "      <th></th>\n",
       "      <th></th>\n",
       "      <th></th>\n",
       "      <th></th>\n",
       "      <th></th>\n",
       "      <th></th>\n",
       "      <th></th>\n",
       "    </tr>\n",
       "  </thead>\n",
       "  <tbody>\n",
       "    <tr>\n",
       "      <th>0</th>\n",
       "      <td>2022-09-25 18:05:40.272119-04:00</td>\n",
       "      <td>119</td>\n",
       "      <td>20392</td>\n",
       "      <td>New York</td>\n",
       "      <td>JERSEY CITY JOURNAL SQUARE</td>\n",
       "      <td>5880</td>\n",
       "      <td>1</td>\n",
       "      <td>6:07 PM</td>\n",
       "      <td>LIGHT</td>\n",
       "    </tr>\n",
       "    <tr>\n",
       "      <th>0</th>\n",
       "      <td>2022-09-25 18:05:40.277284-04:00</td>\n",
       "      <td>119</td>\n",
       "      <td>20393</td>\n",
       "      <td>New York</td>\n",
       "      <td>JERSEY CITY JOURNAL SQUARE</td>\n",
       "      <td>5880</td>\n",
       "      <td>1</td>\n",
       "      <td>6:07 PM</td>\n",
       "      <td>LIGHT</td>\n",
       "    </tr>\n",
       "    <tr>\n",
       "      <th>0</th>\n",
       "      <td>2022-09-25 18:05:46.938904-04:00</td>\n",
       "      <td>119</td>\n",
       "      <td>21854</td>\n",
       "      <td>Bayonne</td>\n",
       "      <td>HOBOKEN TERMINAL</td>\n",
       "      <td>5889</td>\n",
       "      <td>1</td>\n",
       "      <td>6:07 PM</td>\n",
       "      <td>LIGHT</td>\n",
       "    </tr>\n",
       "    <tr>\n",
       "      <th>0</th>\n",
       "      <td>2022-09-25 18:05:46.967539-04:00</td>\n",
       "      <td>119</td>\n",
       "      <td>20672</td>\n",
       "      <td>Bayonne</td>\n",
       "      <td>AMERICAN DREAM</td>\n",
       "      <td>5887</td>\n",
       "      <td>1</td>\n",
       "      <td>6:06 PM</td>\n",
       "      <td>LIGHT</td>\n",
       "    </tr>\n",
       "    <tr>\n",
       "      <th>0</th>\n",
       "      <td>2022-09-25 18:05:47.189478-04:00</td>\n",
       "      <td>119</td>\n",
       "      <td>20869</td>\n",
       "      <td>Bayonne</td>\n",
       "      <td>BAYONNE</td>\n",
       "      <td>5389</td>\n",
       "      <td>1</td>\n",
       "      <td>6:07 PM</td>\n",
       "      <td>LIGHT</td>\n",
       "    </tr>\n",
       "    <tr>\n",
       "      <th>0</th>\n",
       "      <td>2022-09-25 18:05:47.195121-04:00</td>\n",
       "      <td>119</td>\n",
       "      <td>20870</td>\n",
       "      <td>Bayonne</td>\n",
       "      <td>BAYONNE</td>\n",
       "      <td>5389</td>\n",
       "      <td>1</td>\n",
       "      <td>6:07 PM</td>\n",
       "      <td>LIGHT</td>\n",
       "    </tr>\n",
       "  </tbody>\n",
       "</table>\n",
       "</div>"
      ],
      "text/plain": [
       "                             timestamp route stop_id destination  \\\n",
       "index                                                              \n",
       "0     2022-09-25 18:05:40.272119-04:00   119   20392    New York   \n",
       "0     2022-09-25 18:05:40.277284-04:00   119   20393    New York   \n",
       "0     2022-09-25 18:05:46.938904-04:00   119   21854     Bayonne   \n",
       "0     2022-09-25 18:05:46.967539-04:00   119   20672     Bayonne   \n",
       "0     2022-09-25 18:05:47.189478-04:00   119   20869     Bayonne   \n",
       "0     2022-09-25 18:05:47.195121-04:00   119   20870     Bayonne   \n",
       "\n",
       "                         headsign bus_id eta_min eta_time crowding  \n",
       "index                                                               \n",
       "0      JERSEY CITY JOURNAL SQUARE   5880       1  6:07 PM    LIGHT  \n",
       "0      JERSEY CITY JOURNAL SQUARE   5880       1  6:07 PM    LIGHT  \n",
       "0                HOBOKEN TERMINAL   5889       1  6:07 PM    LIGHT  \n",
       "0                  AMERICAN DREAM   5887       1  6:06 PM    LIGHT  \n",
       "0                         BAYONNE   5389       1  6:07 PM    LIGHT  \n",
       "0                         BAYONNE   5389       1  6:07 PM    LIGHT  "
      ]
     },
     "execution_count": 3,
     "metadata": {},
     "output_type": "execute_result"
    }
   ],
   "source": [
    "df"
   ]
  },
  {
   "cell_type": "code",
   "execution_count": 4,
   "id": "81260328-d36d-4ba8-a0ad-d69887a4fc98",
   "metadata": {},
   "outputs": [
    {
     "data": {
      "text/plain": [
       "timestamp      datetime64[ns, America/New_York]\n",
       "route                                    object\n",
       "stop_id                                  object\n",
       "destination                              object\n",
       "headsign                                 object\n",
       "bus_id                                   object\n",
       "eta_min                                  object\n",
       "eta_time                                 object\n",
       "crowding                                 object\n",
       "dtype: object"
      ]
     },
     "execution_count": 4,
     "metadata": {},
     "output_type": "execute_result"
    }
   ],
   "source": [
    "df.dtypes"
   ]
  },
  {
   "cell_type": "code",
   "execution_count": null,
   "id": "a6d765d0-8642-43e7-b707-0908fbe64fb6",
   "metadata": {},
   "outputs": [],
   "source": []
  }
 ],
 "metadata": {
  "kernelspec": {
   "display_name": "Python [conda env:bigdata]",
   "language": "python",
   "name": "conda-env-bigdata-py"
  },
  "language_info": {
   "codemirror_mode": {
    "name": "ipython",
    "version": 3
   },
   "file_extension": ".py",
   "mimetype": "text/x-python",
   "name": "python",
   "nbconvert_exporter": "python",
   "pygments_lexer": "ipython3",
   "version": "3.10.6"
  },
  "vscode": {
   "interpreter": {
    "hash": "4a00d8f6b2070e5718f6c9ab56b6b564dd00887911f15f949834ba8405e6756e"
   }
  }
 },
 "nbformat": 4,
 "nbformat_minor": 5
}
